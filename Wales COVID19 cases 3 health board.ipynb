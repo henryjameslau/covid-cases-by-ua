{
 "cells": [
  {
   "cell_type": "code",
   "execution_count": 1,
   "metadata": {},
   "outputs": [],
   "source": [
    "import re\n",
    "from requests import get\n",
    "url = 'https://covid19-phwstatement.nhs.wales/'\n",
    "response = get(url)"
   ]
  },
  {
   "cell_type": "code",
   "execution_count": 2,
   "metadata": {},
   "outputs": [],
   "source": [
    "from bs4 import BeautifulSoup\n",
    "soup = BeautifulSoup(response.text, 'html.parser')"
   ]
  },
  {
   "cell_type": "code",
   "execution_count": 3,
   "metadata": {},
   "outputs": [],
   "source": [
    "def normalize_whitespace(text):\n",
    "    \"\"\"\n",
    "    Replace non-breaking spaces with regular spaces,\n",
    "    collapse runs of whitespace, and strip whitespace from the ends of the string.\n",
    "    \"\"\"\n",
    "    s = text.replace(u\"\\xa0\", u\" \").replace(u\"&nbsp;\", \" \").replace(r\"\\S+\", \" \")\n",
    "    return re.sub(\"\\s+\", \" \", s).strip()"
   ]
  },
  {
   "cell_type": "code",
   "execution_count": 4,
   "metadata": {},
   "outputs": [
    {
     "name": "stdout",
     "output_type": "stream",
     "text": [
      "Aneurin Bevan\n",
      "Betsi Cadwaladr\n",
      "Cardiff and Vale\n",
      "Cwm Taf Morgannwg\n",
      "Hywel Dda\n",
      "Powys\n",
      "Swansea Bay\n",
      "Resident outside Wales\n",
      "To be confirmed\n",
      "Wales Total\n",
      "Total\n",
      "[{'Health Board': 'Aneurin Bevan', 'New cases': '87', 'Cumulative cases': '956'}, {'Health Board': 'Betsi Cadwaladr', 'New cases': '45', 'Cumulative cases': '178'}, {'Health Board': 'Cardiff and Vale', 'New cases': '116', 'Cumulative cases': '729'}, {'Health Board': 'Cwm Taf Morgannwg', 'New cases': '58', 'Cumulative cases': '387'}, {'Health Board': 'Hywel Dda', 'New cases': '26', 'Cumulative cases': '170'}, {'Health Board': 'Powys', 'New cases': '5', 'Cumulative cases': '46'}, {'Health Board': 'Swansea Bay', 'New cases': '39', 'Cumulative cases': '312'}, {'Health Board': 'Resident outside Wales', 'New cases': '5', 'Cumulative cases': '26'}, {'Health Board': 'To be confirmed', 'New cases': '6', 'Cumulative cases': '49'}, {'Health Board': 'Wales Total', 'New cases': '382', 'Cumulative cases': '2827'}, {'Health Board': 'Total', 'New cases': '387', 'Cumulative cases': '2853'}]\n"
     ]
    }
   ],
   "source": [
    "\n",
    "rows = []\n",
    "table = soup.find('table')\n",
    "for tr in table.find_all('tr')[1:]:\n",
    "    tds = tr.find_all('td')\n",
    "\n",
    "    print(normalize_whitespace(tds[0].find('p').text))\n",
    "#     print(normalize_whitespace(tds[1].find('p').text))\n",
    "#     print(normalize_whitespace(tds[2].find('p').text))\n",
    "#     rows.append({\"Health Board\":tds[0].text,\"New cases\":tds[1].text,\"Cumulative cases\":tds[2].text})\n",
    "    rows.append({\"Health Board\":normalize_whitespace(tds[0].find('p').text),\"New cases\":normalize_whitespace(tds[1].find('p').text),\"Cumulative cases\":tds[2].find('p').text})\n",
    "print(rows)\n"
   ]
  },
  {
   "cell_type": "code",
   "execution_count": 5,
   "metadata": {},
   "outputs": [
    {
     "name": "stdout",
     "output_type": "stream",
     "text": [
      " Saturday 4 April\n"
     ]
    }
   ],
   "source": [
    "date=soup.find_all('i')[0].text.split('Updated: ')[1]\n",
    "\n",
    "date=date.split(\":\")[1][4:]\n",
    "print(date)\n"
   ]
  },
  {
   "cell_type": "code",
   "execution_count": 6,
   "metadata": {},
   "outputs": [],
   "source": [
    "import csv\n",
    "keys = rows[0].keys()\n",
    "with open('wales'+date+'.csv','w') as output_file:\n",
    "    writer = csv.DictWriter(output_file,keys)\n",
    "    writer.writeheader()\n",
    "    writer.writerows(rows)\n",
    "    output_file.close()"
   ]
  },
  {
   "cell_type": "code",
   "execution_count": null,
   "metadata": {},
   "outputs": [],
   "source": []
  },
  {
   "cell_type": "code",
   "execution_count": null,
   "metadata": {},
   "outputs": [],
   "source": []
  }
 ],
 "metadata": {
  "kernelspec": {
   "display_name": "Python 3",
   "language": "python",
   "name": "python3"
  },
  "language_info": {
   "codemirror_mode": {
    "name": "ipython",
    "version": 3
   },
   "file_extension": ".py",
   "mimetype": "text/x-python",
   "name": "python",
   "nbconvert_exporter": "python",
   "pygments_lexer": "ipython3",
   "version": "3.7.5"
  }
 },
 "nbformat": 4,
 "nbformat_minor": 2
}
