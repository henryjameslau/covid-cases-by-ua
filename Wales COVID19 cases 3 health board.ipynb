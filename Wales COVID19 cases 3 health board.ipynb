{
 "cells": [
  {
   "cell_type": "code",
   "execution_count": 5,
   "metadata": {},
   "outputs": [],
   "source": [
    "import re\n",
    "from requests import get\n",
    "url = 'https://covid19-phwstatement.nhs.wales/'\n",
    "response = get(url)"
   ]
  },
  {
   "cell_type": "code",
   "execution_count": 6,
   "metadata": {},
   "outputs": [],
   "source": [
    "from bs4 import BeautifulSoup\n",
    "soup = BeautifulSoup(response.text, 'html.parser')"
   ]
  },
  {
   "cell_type": "code",
   "execution_count": 7,
   "metadata": {},
   "outputs": [],
   "source": [
    "def normalize_whitespace(text):\n",
    "    \"\"\"\n",
    "    Replace non-breaking spaces with regular spaces,\n",
    "    collapse runs of whitespace, and strip whitespace from the ends of the string.\n",
    "    \"\"\"\n",
    "    s = text.replace(u\"\\xa0\", u\" \").replace(u\"&nbsp;\", \" \").replace(r\"\\S+\", \" \")\n",
    "    return re.sub(\"\\s+\", \" \", s).strip()"
   ]
  },
  {
   "cell_type": "code",
   "execution_count": 12,
   "metadata": {},
   "outputs": [
    {
     "name": "stdout",
     "output_type": "stream",
     "text": [
      "Aneurin Bevan\n",
      "102\n",
      "869\n",
      "Betsi Cadwaladr\n",
      "16\n",
      "133\n",
      "Cardiff and Vale\n",
      "86\n",
      "613\n",
      "Cwm Taf\n",
      "87\n",
      "329\n",
      "Hywel Dda\n",
      "10\n",
      "144\n",
      "Powys\n",
      "7\n",
      "41\n",
      "Swansea Bay\n",
      "26\n",
      "273\n",
      "Resident outside Wales\n",
      "4\n",
      "21\n",
      "To be confirmed\n",
      "7\n",
      "43\n",
      "Wales Total\n",
      "341\n",
      "2445\n",
      "Total\n",
      "345\n",
      "2466\n",
      "[{'Health Board': 'Aneurin Bevan', 'New cases': '102', 'Cumulative cases': '869'}, {'Health Board': 'Betsi Cadwaladr', 'New cases': '16', 'Cumulative cases': '133'}, {'Health Board': 'Cardiff and Vale', 'New cases': '86', 'Cumulative cases': '613'}, {'Health Board': 'Cwm Taf', 'New cases': '87', 'Cumulative cases': '329'}, {'Health Board': 'Hywel Dda', 'New cases': '10', 'Cumulative cases': '144'}, {'Health Board': 'Powys', 'New cases': '7', 'Cumulative cases': '41'}, {'Health Board': 'Swansea Bay', 'New cases': '26', 'Cumulative cases': '273'}, {'Health Board': 'Resident outside Wales', 'New cases': '4', 'Cumulative cases': '21'}, {'Health Board': 'To be confirmed', 'New cases': '7', 'Cumulative cases': '43'}, {'Health Board': 'Wales Total', 'New cases': '341', 'Cumulative cases': '2445'}, {'Health Board': 'Total', 'New cases': '345', 'Cumulative cases': '2466'}]\n"
     ]
    }
   ],
   "source": [
    "\n",
    "rows = []\n",
    "table = soup.find('table')\n",
    "for tr in table.find_all('tr')[1:]:\n",
    "    tds = tr.find_all('td')\n",
    "\n",
    "    print(normalize_whitespace(tds[0].find('p').text))\n",
    "#     print(normalize_whitespace(tds[1].find('p').text))\n",
    "#     print(normalize_whitespace(tds[2].find('p').text))\n",
    "#     rows.append({\"Health Board\":tds[0].text,\"New cases\":tds[1].text,\"Cumulative cases\":tds[2].text})\n",
    "    rows.append({\"Health Board\":normalize_whitespace(tds[0].find('p').text),\"New cases\":normalize_whitespace(tds[1].find('p').text),\"Cumulative cases\":tds[2].find('p').text})\n",
    "print(rows)\n"
   ]
  },
  {
   "cell_type": "code",
   "execution_count": 13,
   "metadata": {},
   "outputs": [
    {
     "name": "stdout",
     "output_type": "stream",
     "text": [
      " Friday 3 April\n"
     ]
    }
   ],
   "source": [
    "date=soup.find_all('i')[0].text.split('Updated: ')[1]\n",
    "\n",
    "date=date.split(\":\")[1][4:]\n",
    "print(date)\n"
   ]
  },
  {
   "cell_type": "code",
   "execution_count": 14,
   "metadata": {},
   "outputs": [],
   "source": [
    "import csv\n",
    "keys = rows[0].keys()\n",
    "with open('wales'+date+'.csv','w') as output_file:\n",
    "    writer = csv.DictWriter(output_file,keys)\n",
    "    writer.writeheader()\n",
    "    writer.writerows(rows)\n",
    "    output_file.close()"
   ]
  },
  {
   "cell_type": "code",
   "execution_count": null,
   "metadata": {},
   "outputs": [],
   "source": []
  },
  {
   "cell_type": "code",
   "execution_count": null,
   "metadata": {},
   "outputs": [],
   "source": []
  }
 ],
 "metadata": {
  "kernelspec": {
   "display_name": "Python 3",
   "language": "python",
   "name": "python3"
  },
  "language_info": {
   "codemirror_mode": {
    "name": "ipython",
    "version": 3
   },
   "file_extension": ".py",
   "mimetype": "text/x-python",
   "name": "python",
   "nbconvert_exporter": "python",
   "pygments_lexer": "ipython3",
   "version": "3.7.5"
  }
 },
 "nbformat": 4,
 "nbformat_minor": 2
}
