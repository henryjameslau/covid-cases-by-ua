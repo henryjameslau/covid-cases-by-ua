{
 "cells": [
  {
   "cell_type": "code",
   "execution_count": 30,
   "metadata": {},
   "outputs": [],
   "source": [
    "from requests import get\n",
    "url = 'https://phw.nhs.wales/news/public-health-wales-statement-on-novel-coronavirus-outbreak/'\n",
    "response = get(url)"
   ]
  },
  {
   "cell_type": "code",
   "execution_count": 31,
   "metadata": {},
   "outputs": [],
   "source": [
    "from bs4 import BeautifulSoup\n",
    "soup = BeautifulSoup(response.text, 'html.parser')"
   ]
  },
  {
   "cell_type": "code",
   "execution_count": 32,
   "metadata": {},
   "outputs": [
    {
     "name": "stdout",
     "output_type": "stream",
     "text": [
      "[{'Health Board': '\\nTo be confirmed\\n', 'New cases': '\\nTo be confirmed\\n', 'Cumulative cases': '\\n1\\n'}, {'Health Board': '\\n\\xa0\\n', 'New cases': '\\n\\xa0\\n', 'Cumulative cases': '\\n\\xa0\\n'}, {'Health Board': '\\nResident outside Wales\\n', 'New cases': '\\n\\xa0\\n', 'Cumulative cases': '\\n0\\n'}, {'Health Board': '\\n\\xa0\\n', 'New cases': '\\n\\xa0\\n', 'Cumulative cases': '\\n\\xa0\\n'}, {'Health Board': '\\nSwansea Bay\\n', 'New cases': '\\nNeath Port Talbot\\n', 'Cumulative cases': '\\n1\\n'}, {'Health Board': '\\n\\xa0\\n', 'New cases': '\\nSwansea\\n', 'Cumulative cases': '\\n0\\n'}, {'Health Board': '\\n\\xa0\\n', 'New cases': '\\n\\xa0\\n', 'Cumulative cases': '\\n\\xa0\\n'}, {'Health Board': '\\nAneurin Bevan\\n', 'New cases': '\\nBlaenau Gwent\\n', 'Cumulative cases': '\\n1\\n'}, {'Health Board': '\\n\\xa0\\n', 'New cases': '\\nCaerphilly\\n', 'Cumulative cases': '\\n1\\n'}, {'Health Board': '\\n\\xa0\\n', 'New cases': '\\nMonmouthshire\\n', 'Cumulative cases': '\\n3\\n'}, {'Health Board': '\\n\\xa0\\n', 'New cases': '\\nNewport\\n', 'Cumulative cases': '\\n10\\n'}, {'Health Board': '\\n\\xa0\\n', 'New cases': '\\nTorfaen\\n', 'Cumulative cases': '\\n1\\n'}, {'Health Board': '\\n\\xa0\\n', 'New cases': '\\n\\xa0\\n', 'Cumulative cases': '\\n\\xa0\\n'}, {'Health Board': '\\nBetsi Cadwaladr\\n', 'New cases': '\\nConwy\\n', 'Cumulative cases': '\\n0\\n'}, {'Health Board': '\\n\\xa0\\n', 'New cases': '\\nDenbighshire\\n', 'Cumulative cases': '\\n0\\n'}, {'Health Board': '\\n\\xa0\\n', 'New cases': '\\nFlintshire\\n', 'Cumulative cases': '\\n0\\n'}, {'Health Board': '\\n\\xa0\\n', 'New cases': '\\nGwynedd\\n', 'Cumulative cases': '\\n0\\n'}, {'Health Board': '\\n\\xa0\\n', 'New cases': '\\nIsle of Anglesey\\n', 'Cumulative cases': '\\n0\\n'}, {'Health Board': '\\n\\xa0\\n', 'New cases': '\\nWrexham\\n', 'Cumulative cases': '\\n0\\n'}, {'Health Board': '\\n\\xa0\\n', 'New cases': '\\n\\xa0\\n', 'Cumulative cases': '\\n\\xa0\\n'}, {'Health Board': '\\nCardiff and Vale\\n', 'New cases': '\\nCardiff\\n', 'Cumulative cases': '\\n2\\n'}, {'Health Board': '\\n\\xa0\\n', 'New cases': '\\nVale of Glamorgan\\n', 'Cumulative cases': '\\n0\\n'}, {'Health Board': '\\n\\xa0\\n', 'New cases': '\\n\\xa0\\n', 'Cumulative cases': '\\n\\xa0\\n'}, {'Health Board': '\\nCwm Taf\\n', 'New cases': '\\nBridgend\\n', 'Cumulative cases': '\\n0\\n'}, {'Health Board': '\\n\\xa0\\n', 'New cases': '\\nRhondda Cynon Taf\\n', 'Cumulative cases': '\\n0\\n'}, {'Health Board': '\\n\\xa0\\n', 'New cases': '\\nMerthyr Tydfil\\n', 'Cumulative cases': '\\n1\\n'}, {'Health Board': '\\n\\xa0\\n', 'New cases': '\\n\\xa0\\n', 'Cumulative cases': '\\n\\xa0\\n'}, {'Health Board': '\\nHywel Dda\\n', 'New cases': '\\nCarmarthenshire\\n', 'Cumulative cases': '\\n0\\n'}, {'Health Board': '\\n\\xa0\\n', 'New cases': '\\nCeredigion\\n', 'Cumulative cases': '\\n0\\n'}, {'Health Board': '\\n\\xa0\\n', 'New cases': '\\nPembrokeshire\\n', 'Cumulative cases': '\\n0\\n'}, {'Health Board': '\\n\\xa0\\n', 'New cases': '\\n\\xa0\\n', 'Cumulative cases': '\\n\\xa0\\n'}, {'Health Board': '\\nPowys\\n', 'New cases': '\\nPowys\\n', 'Cumulative cases': '\\n0\\n'}, {'Health Board': '\\n\\xa0\\n', 'New cases': '\\n\\xa0\\n', 'Cumulative cases': '\\n\\xa0\\n'}, {'Health Board': '\\nWales\\n', 'New cases': '\\nWales\\n', 'Cumulative cases': '\\n21\\n'}]\n"
     ]
    }
   ],
   "source": [
    "rows = []\n",
    "table = soup.find('table')\n",
    "for tr in table.find_all('tr')[1:]:\n",
    "    tds = tr.find_all('td')\n",
    "    rows.append({\"Health Board\":tds[0].text,\"New cases\":tds[1].text,\"Cumulative cases\":tds[2].text})\n",
    "print(rows)\n"
   ]
  },
  {
   "cell_type": "code",
   "execution_count": 33,
   "metadata": {},
   "outputs": [
    {
     "name": "stdout",
     "output_type": "stream",
     "text": [
      " Friday 20 March 2020\n"
     ]
    }
   ],
   "source": [
    "date=soup.find('em').text.split(': 12pm')[1]\n",
    "print(date)"
   ]
  },
  {
   "cell_type": "code",
   "execution_count": 35,
   "metadata": {},
   "outputs": [],
   "source": [
    "import csv\n",
    "keys = rows[0].keys()\n",
    "with open('wales'+date+'.csv','w') as output_file:\n",
    "    writer = csv.DictWriter(output_file,keys)\n",
    "    writer.writeheader()\n",
    "    writer.writerows(rows)\n",
    "    output_file.close()"
   ]
  },
  {
   "cell_type": "code",
   "execution_count": null,
   "metadata": {},
   "outputs": [],
   "source": []
  },
  {
   "cell_type": "code",
   "execution_count": null,
   "metadata": {},
   "outputs": [],
   "source": []
  }
 ],
 "metadata": {
  "kernelspec": {
   "display_name": "Python 3",
   "language": "python",
   "name": "python3"
  },
  "language_info": {
   "codemirror_mode": {
    "name": "ipython",
    "version": 3
   },
   "file_extension": ".py",
   "mimetype": "text/x-python",
   "name": "python",
   "nbconvert_exporter": "python",
   "pygments_lexer": "ipython3",
   "version": "3.7.5"
  }
 },
 "nbformat": 4,
 "nbformat_minor": 2
}
