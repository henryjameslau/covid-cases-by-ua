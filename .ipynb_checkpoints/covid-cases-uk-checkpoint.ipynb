{
 "cells": [
  {
   "cell_type": "code",
   "execution_count": 1,
   "metadata": {},
   "outputs": [],
   "source": [
    "%matplotlib inline\n",
    "import datetime\n",
    "import pandas as pd\n",
    "import matplotlib.pyplot as plt\n",
    "import numpy as np"
   ]
  },
  {
   "cell_type": "code",
   "execution_count": 2,
   "metadata": {},
   "outputs": [],
   "source": [
    "url = 'https://raw.githubusercontent.com/tomwhite/covid-19-uk-data/master/data/covid-19-cases-uk.csv'\n",
    "df = pd.read_csv(url, error_bad_lines=False)\n"
   ]
  },
  {
   "cell_type": "code",
   "execution_count": 3,
   "metadata": {},
   "outputs": [],
   "source": [
    "#format as date\n",
    "df['Date']=pd.to_datetime(df.Date)\n",
    "#sort by date\n",
    "df.sort_values(by='Date')\n",
    "\n",
    "#change '1 to 4' to 2\n",
    "df.TotalCases = pd.to_numeric(df.TotalCases, errors='coerce').fillna(2).astype(np.int64)\n",
    "\n",
    "#filter out awaiting clarification areas\n",
    "df=df[df.Area!='awaiting clarification']\n",
    "df=df[df.Area!='Awaiting confirmation']"
   ]
  },
  {
   "cell_type": "code",
   "execution_count": 4,
   "metadata": {},
   "outputs": [],
   "source": [
    "#filter out outliers\n",
    "df=df.drop(df[(df['Area']=='Sheffield')&(df['Date']==datetime.datetime(2020, 3, 17))].index)\n",
    "df=df.drop(df[(df['Area']=='Derbyshire')&(df['Date']==datetime.datetime(2020, 3, 17))].index)\n",
    "\n",
    "#drop To be confirmed and Resident outside Wales\n",
    "df=df.drop(df[df['Area']=='To be confirmed'].index)\n",
    "df=df.drop(df[df['Area']=='Resident outside Wales'].index)"
   ]
  },
  {
   "cell_type": "code",
   "execution_count": 5,
   "metadata": {},
   "outputs": [
    {
     "data": {
      "text/html": [
       "<div>\n",
       "<style scoped>\n",
       "    .dataframe tbody tr th:only-of-type {\n",
       "        vertical-align: middle;\n",
       "    }\n",
       "\n",
       "    .dataframe tbody tr th {\n",
       "        vertical-align: top;\n",
       "    }\n",
       "\n",
       "    .dataframe thead th {\n",
       "        text-align: right;\n",
       "    }\n",
       "</style>\n",
       "<table border=\"1\" class=\"dataframe\">\n",
       "  <thead>\n",
       "    <tr style=\"text-align: right;\">\n",
       "      <th></th>\n",
       "      <th>Date</th>\n",
       "      <th>Country</th>\n",
       "      <th>AreaCode</th>\n",
       "      <th>Area</th>\n",
       "      <th>TotalCases</th>\n",
       "    </tr>\n",
       "  </thead>\n",
       "  <tbody>\n",
       "    <tr>\n",
       "      <th>0</th>\n",
       "      <td>2020-03-01</td>\n",
       "      <td>Scotland</td>\n",
       "      <td>S08000015</td>\n",
       "      <td>Ayrshire and Arran</td>\n",
       "      <td>0</td>\n",
       "    </tr>\n",
       "    <tr>\n",
       "      <th>13</th>\n",
       "      <td>2020-03-01</td>\n",
       "      <td>Scotland</td>\n",
       "      <td>S08000028</td>\n",
       "      <td>Western Isles</td>\n",
       "      <td>0</td>\n",
       "    </tr>\n",
       "    <tr>\n",
       "      <th>12</th>\n",
       "      <td>2020-03-01</td>\n",
       "      <td>Scotland</td>\n",
       "      <td>S08000030</td>\n",
       "      <td>Tayside</td>\n",
       "      <td>0</td>\n",
       "    </tr>\n",
       "    <tr>\n",
       "      <th>11</th>\n",
       "      <td>2020-03-01</td>\n",
       "      <td>Scotland</td>\n",
       "      <td>S08000026</td>\n",
       "      <td>Shetland</td>\n",
       "      <td>0</td>\n",
       "    </tr>\n",
       "    <tr>\n",
       "      <th>10</th>\n",
       "      <td>2020-03-01</td>\n",
       "      <td>Scotland</td>\n",
       "      <td>S08000025</td>\n",
       "      <td>Orkney</td>\n",
       "      <td>0</td>\n",
       "    </tr>\n",
       "    <tr>\n",
       "      <th>...</th>\n",
       "      <td>...</td>\n",
       "      <td>...</td>\n",
       "      <td>...</td>\n",
       "      <td>...</td>\n",
       "      <td>...</td>\n",
       "    </tr>\n",
       "    <tr>\n",
       "      <th>4400</th>\n",
       "      <td>2020-03-30</td>\n",
       "      <td>England</td>\n",
       "      <td>E08000036</td>\n",
       "      <td>Wakefield</td>\n",
       "      <td>62</td>\n",
       "    </tr>\n",
       "    <tr>\n",
       "      <th>4399</th>\n",
       "      <td>2020-03-30</td>\n",
       "      <td>England</td>\n",
       "      <td>E08000035</td>\n",
       "      <td>Leeds</td>\n",
       "      <td>129</td>\n",
       "    </tr>\n",
       "    <tr>\n",
       "      <th>4398</th>\n",
       "      <td>2020-03-30</td>\n",
       "      <td>England</td>\n",
       "      <td>E08000034</td>\n",
       "      <td>Kirklees</td>\n",
       "      <td>72</td>\n",
       "    </tr>\n",
       "    <tr>\n",
       "      <th>4404</th>\n",
       "      <td>2020-03-30</td>\n",
       "      <td>England</td>\n",
       "      <td>E09000004</td>\n",
       "      <td>Bexley</td>\n",
       "      <td>130</td>\n",
       "    </tr>\n",
       "    <tr>\n",
       "      <th>4348</th>\n",
       "      <td>2020-03-30</td>\n",
       "      <td>England</td>\n",
       "      <td>E06000040</td>\n",
       "      <td>Windsor and Maidenhead</td>\n",
       "      <td>48</td>\n",
       "    </tr>\n",
       "  </tbody>\n",
       "</table>\n",
       "<p>4295 rows × 5 columns</p>\n",
       "</div>"
      ],
      "text/plain": [
       "           Date   Country   AreaCode                    Area  TotalCases\n",
       "0    2020-03-01  Scotland  S08000015      Ayrshire and Arran           0\n",
       "13   2020-03-01  Scotland  S08000028           Western Isles           0\n",
       "12   2020-03-01  Scotland  S08000030                 Tayside           0\n",
       "11   2020-03-01  Scotland  S08000026                Shetland           0\n",
       "10   2020-03-01  Scotland  S08000025                  Orkney           0\n",
       "...         ...       ...        ...                     ...         ...\n",
       "4400 2020-03-30   England  E08000036               Wakefield          62\n",
       "4399 2020-03-30   England  E08000035                   Leeds         129\n",
       "4398 2020-03-30   England  E08000034                Kirklees          72\n",
       "4404 2020-03-30   England  E09000004                  Bexley         130\n",
       "4348 2020-03-30   England  E06000040  Windsor and Maidenhead          48\n",
       "\n",
       "[4295 rows x 5 columns]"
      ]
     },
     "execution_count": 5,
     "metadata": {},
     "output_type": "execute_result"
    }
   ],
   "source": [
    "#Just filter out Wales\n",
    "wales=df[df['Country']=='Wales']\n",
    "\n",
    "#read lookup csv\n",
    "lookup = pd.read_csv(\"Unitary_Authority_to_Local_Health_Board_April_2019_Lookup_in_Wales.csv\")\n",
    "\n",
    "#Keep list of UAs\n",
    "UAs=lookup['UA19NM'].values.tolist()\n",
    "\n",
    "#Drop unnecessary columns\n",
    "lookup=lookup.drop(columns=['UA19NM','FID'])\n",
    "\n",
    "#Add in health boards\n",
    "wales=wales.merge(lookup,left_on='AreaCode',right_on='UA19CD')\n",
    "#Group by date and health board, summing as you go\n",
    "wales2=wales.groupby(['Date','LHB19NM','LHB19CD'], as_index=False).sum()\n",
    "\n",
    "#add it back into the dataframe\n",
    "for index,row in wales2.iterrows():\n",
    "#     print(row.Date, row.LHB19NM, row.LHB19CD,index)\n",
    "    df=df.append({'Date':row.Date,'Country':'Wales','AreaCode':row.LHB19CD,'Area':row.LHB19NM,'TotalCases':index}, ignore_index=True)\n",
    "\n",
    "# Keep Powys as it's a one UA health board\n",
    "UAs.remove('Powys')\n",
    "#now get rid of the old UAs\n",
    "df=df.loc[~df['Area'].isin(UAs)]\n",
    "\n",
    "# resort by date\n",
    "df.sort_values('Date')\n"
   ]
  },
  {
   "cell_type": "code",
   "execution_count": 6,
   "metadata": {},
   "outputs": [],
   "source": [
    "#create dictionary for areas with more than 10 cases\n",
    "areaWithMoreThan10={}\n",
    "\n",
    "\n",
    "for index, row in df.iterrows():\n",
    "    if row.TotalCases>10:\n",
    "#         print(row.Area,row.Date)\n",
    "        if row.Area not in areaWithMoreThan10.keys():\n",
    "            areaWithMoreThan10[row.Area] = {'Area':row.Area,\"Code\":row.AreaCode,\"firstDate\":row.Date}\n"
   ]
  },
  {
   "cell_type": "code",
   "execution_count": 8,
   "metadata": {},
   "outputs": [],
   "source": [
    "#Work out time since 10 cases\n",
    "theseAreas=[]\n",
    "\n",
    "for index, row in df.iterrows():\n",
    "    if row.Area in areaWithMoreThan10.keys():\n",
    "#         print(row.Date-areaWithMoreThan10[row.Area]['firstDate'])\n",
    "        if row.Date-areaWithMoreThan10[row.Area]['firstDate'] >= datetime.timedelta(days = 0):\n",
    "            theseAreas.append(row.Date-areaWithMoreThan10[row.Area]['firstDate'])\n",
    "        else:\n",
    "            theseAreas.append(None)\n",
    "    else:\n",
    "        theseAreas.append(None)\n",
    "\n",
    "df['timeSince10']=theseAreas        "
   ]
  },
  {
   "cell_type": "code",
   "execution_count": 9,
   "metadata": {},
   "outputs": [],
   "source": [
    "filterArea=df[~pd.isnull(df.timeSince10)]\n",
    "#just get data where cases have timeSince10"
   ]
  },
  {
   "cell_type": "code",
   "execution_count": 10,
   "metadata": {},
   "outputs": [],
   "source": [
    "lines=filterArea.pivot(index='Area',values='TotalCases',columns='timeSince10').transpose()"
   ]
  },
  {
   "cell_type": "code",
   "execution_count": 11,
   "metadata": {},
   "outputs": [],
   "source": [
    "#lines.plot(figsize=[12,13],yscale='log')\n",
    "#ah balls, just export it and do it in datawrapper"
   ]
  },
  {
   "cell_type": "code",
   "execution_count": 12,
   "metadata": {},
   "outputs": [],
   "source": [
    "#save as .csv\n",
    "lines.to_csv('jbm '+str(datetime.date.today())+'.csv', index = True)"
   ]
  },
  {
   "cell_type": "code",
   "execution_count": null,
   "metadata": {},
   "outputs": [],
   "source": []
  }
 ],
 "metadata": {
  "kernelspec": {
   "display_name": "Python 3",
   "language": "python",
   "name": "python3"
  },
  "language_info": {
   "codemirror_mode": {
    "name": "ipython",
    "version": 3
   },
   "file_extension": ".py",
   "mimetype": "text/x-python",
   "name": "python",
   "nbconvert_exporter": "python",
   "pygments_lexer": "ipython3",
   "version": "3.7.5"
  }
 },
 "nbformat": 4,
 "nbformat_minor": 2
}
