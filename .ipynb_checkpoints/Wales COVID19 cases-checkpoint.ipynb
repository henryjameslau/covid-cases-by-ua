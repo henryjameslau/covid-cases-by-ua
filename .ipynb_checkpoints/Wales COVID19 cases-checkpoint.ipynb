{
 "cells": [
  {
   "cell_type": "code",
   "execution_count": 1,
   "metadata": {},
   "outputs": [],
   "source": [
    "from requests import get\n",
    "url = 'https://phw.nhs.wales/news/public-health-wales-statement-on-novel-coronavirus-outbreak/'\n",
    "response = get(url)"
   ]
  },
  {
   "cell_type": "code",
   "execution_count": 2,
   "metadata": {},
   "outputs": [],
   "source": [
    "from bs4 import BeautifulSoup\n",
    "soup = BeautifulSoup(response.text, 'html.parser')"
   ]
  },
  {
   "cell_type": "code",
   "execution_count": 3,
   "metadata": {},
   "outputs": [
    {
     "name": "stdout",
     "output_type": "stream",
     "text": [
      "[{'Health Board': '\\nTo be confirmed\\n', 'New cases': '\\n0\\n', 'Cumulative cases': '\\n1\\n'}, {'Health Board': '\\nResident outside Wales\\n', 'New cases': '\\n0\\n', 'Cumulative cases': '\\n2\\n'}, {'Health Board': '\\nSwansea Bay\\n', 'New cases': '\\n7\\n', 'Cumulative cases': '\\n41\\n'}, {'Health Board': '\\nAneurin Bevan\\n', 'New cases': '\\n53\\n', 'Cumulative cases': '\\n145\\n'}, {'Health Board': '\\nBetsi Cadwaladr\\n', 'New cases': '\\n1\\n', 'Cumulative cases': '\\n8\\n'}, {'Health Board': '\\nCardiff and Vale\\n', 'New cases': '\\n22\\n', 'Cumulative cases': '\\n51\\n'}, {'Health Board': '\\nCwm Taf\\n', 'New cases': '\\n2\\n', 'Cumulative cases': '\\n9\\n'}, {'Health Board': '\\nHywel Dda\\n', 'New cases': '\\n3\\n', 'Cumulative cases': '\\n14\\n'}, {'Health Board': '\\nPowys\\n', 'New cases': '\\n1\\n', 'Cumulative cases': '\\n9\\n'}, {'Health Board': '\\nTOTAL\\n', 'New cases': '\\n89\\n', 'Cumulative cases': '\\n280\\n'}]\n"
     ]
    }
   ],
   "source": [
    "rows = []\n",
    "table = soup.find('table')\n",
    "for tr in table.find_all('tr')[1:]:\n",
    "    tds = tr.find_all('td')\n",
    "    rows.append({\"Health Board\":tds[0].text,\"New cases\":tds[1].text,\"Cumulative cases\":tds[2].text})\n",
    "print(rows)\n"
   ]
  },
  {
   "cell_type": "code",
   "execution_count": 11,
   "metadata": {},
   "outputs": [
    {
     "name": "stdout",
     "output_type": "stream",
     "text": [
      "Saturday 21 March 2020\n"
     ]
    }
   ],
   "source": [
    "date=soup.find_all('em')[0].text.split('Updated: ')[1]\n",
    "\n",
    "date=date.split(\":\")[1][2:]\n",
    "print(date)\n"
   ]
  },
  {
   "cell_type": "code",
   "execution_count": 12,
   "metadata": {},
   "outputs": [],
   "source": [
    "import csv\n",
    "keys = rows[0].keys()\n",
    "with open('wales'+date+'.csv','w') as output_file:\n",
    "    writer = csv.DictWriter(output_file,keys)\n",
    "    writer.writeheader()\n",
    "    writer.writerows(rows)\n",
    "    output_file.close()"
   ]
  },
  {
   "cell_type": "code",
   "execution_count": null,
   "metadata": {},
   "outputs": [],
   "source": []
  },
  {
   "cell_type": "code",
   "execution_count": null,
   "metadata": {},
   "outputs": [],
   "source": []
  }
 ],
 "metadata": {
  "kernelspec": {
   "display_name": "Python 3",
   "language": "python",
   "name": "python3"
  },
  "language_info": {
   "codemirror_mode": {
    "name": "ipython",
    "version": 3
   },
   "file_extension": ".py",
   "mimetype": "text/x-python",
   "name": "python",
   "nbconvert_exporter": "python",
   "pygments_lexer": "ipython3",
   "version": "3.7.5"
  }
 },
 "nbformat": 4,
 "nbformat_minor": 2
}
