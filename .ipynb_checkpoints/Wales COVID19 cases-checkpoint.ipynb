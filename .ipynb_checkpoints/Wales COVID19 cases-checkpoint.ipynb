{
 "cells": [
  {
   "cell_type": "code",
   "execution_count": 29,
   "metadata": {},
   "outputs": [],
   "source": [
    "from requests import get\n",
    "url = 'https://phw.nhs.wales/news/public-health-wales-statement-on-novel-coronavirus-outbreak/'\n",
    "response = get(url)"
   ]
  },
  {
   "cell_type": "code",
   "execution_count": 5,
   "metadata": {},
   "outputs": [],
   "source": [
    "from bs4 import BeautifulSoup\n",
    "soup = BeautifulSoup(response.text, 'html.parser')"
   ]
  },
  {
   "cell_type": "code",
   "execution_count": 19,
   "metadata": {},
   "outputs": [
    {
     "name": "stdout",
     "output_type": "stream",
     "text": [
      "[{'Health Board': 'Swansea Bay', 'New cases': '1', 'Cumulative cases': '33'}, {'Health Board': 'Aneurin Bevan', 'New cases': '13', 'Cumulative cases': '76'}, {'Health Board': 'Betsi Cadwaladr', 'New cases': '0', 'Cumulative cases': '7'}, {'Health Board': 'Cardiff and Vale', 'New cases': '8', 'Cumulative cases': '28'}, {'Health Board': 'Cwm Taf', 'New cases': '1', 'Cumulative cases': '6'}, {'Health Board': 'Hywel Dda', 'New cases': '1', 'Cumulative cases': '12'}, {'Health Board': 'Powys', 'New cases': '0', 'Cumulative cases': '8'}, {'Health Board': 'Wales', 'New cases': '24', 'Cumulative cases': '170'}]\n"
     ]
    }
   ],
   "source": [
    "rows = []\n",
    "table = soup.find('table')\n",
    "for tr in table.find_all('tr')[1:]:\n",
    "    tds = tr.find_all('td')\n",
    "    rows.append({\"Health Board\":tds[0].text,\"New cases\":tds[1].text,\"Cumulative cases\":tds[2].text})\n",
    "print(rows)\n"
   ]
  },
  {
   "cell_type": "code",
   "execution_count": 27,
   "metadata": {},
   "outputs": [
    {
     "name": "stdout",
     "output_type": "stream",
     "text": [
      " Thursday 19 March 2020\n"
     ]
    }
   ],
   "source": [
    "date=soup.find('em').text.split(': 12pm')[1]\n",
    "print(date)"
   ]
  },
  {
   "cell_type": "code",
   "execution_count": 28,
   "metadata": {},
   "outputs": [],
   "source": [
    "import csv\n",
    "keys = rows[0].keys()\n",
    "with open('wales'+date+'.csv','w') as output_file:\n",
    "    writer = csv.DictWriter(output_file,keys)\n",
    "    writer.writeheader()\n",
    "    writer.writerows(rows)"
   ]
  },
  {
   "cell_type": "code",
   "execution_count": null,
   "metadata": {},
   "outputs": [],
   "source": []
  },
  {
   "cell_type": "code",
   "execution_count": null,
   "metadata": {},
   "outputs": [],
   "source": []
  }
 ],
 "metadata": {
  "kernelspec": {
   "display_name": "Python 3",
   "language": "python",
   "name": "python3"
  },
  "language_info": {
   "codemirror_mode": {
    "name": "ipython",
    "version": 3
   },
   "file_extension": ".py",
   "mimetype": "text/x-python",
   "name": "python",
   "nbconvert_exporter": "python",
   "pygments_lexer": "ipython3",
   "version": "3.7.5"
  }
 },
 "nbformat": 4,
 "nbformat_minor": 2
}
