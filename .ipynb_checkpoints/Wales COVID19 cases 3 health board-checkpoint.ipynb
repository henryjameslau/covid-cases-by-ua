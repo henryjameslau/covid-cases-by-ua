{
 "cells": [
  {
   "cell_type": "code",
   "execution_count": 1,
   "metadata": {},
   "outputs": [],
   "source": [
    "import re\n",
    "from requests import get\n",
    "url = 'https://covid19-phwstatement.nhs.wales/'\n",
    "response = get(url)"
   ]
  },
  {
   "cell_type": "code",
   "execution_count": 2,
   "metadata": {},
   "outputs": [],
   "source": [
    "from bs4 import BeautifulSoup\n",
    "soup = BeautifulSoup(response.text, 'html.parser')"
   ]
  },
  {
   "cell_type": "code",
   "execution_count": 3,
   "metadata": {},
   "outputs": [],
   "source": [
    "def normalize_whitespace(text):\n",
    "    \"\"\"\n",
    "    Replace non-breaking spaces with regular spaces,\n",
    "    collapse runs of whitespace, and strip whitespace from the ends of the string.\n",
    "    \"\"\"\n",
    "    s = text.replace(u\"\\xa0\", u\" \").replace(u\"&nbsp;\", \" \").replace(r\"\\S+\", \" \")\n",
    "    return re.sub(\"\\s+\", \" \", s).strip()"
   ]
  },
  {
   "cell_type": "code",
   "execution_count": 7,
   "metadata": {},
   "outputs": [
    {
     "name": "stdout",
     "output_type": "stream",
     "text": [
      "[{'Health Board': 'To be confirmed', 'New cases': '1', 'Cumulative cases': '2'}, {'Health Board': 'Resident outside Wales', 'New cases': '0', 'Cumulative cases': '3'}, {'Health Board': 'Swansea Bay', 'New cases': '2', 'Cumulative cases': '49'}, {'Health Board': 'Aneurin Bevan', 'New cases': '28', 'Cumulative cases': '248'}, {'Health Board': 'Betsi Cadwaladr', 'New cases': '4', 'Cumulative cases': '19'}, {'Health Board': 'Cardiff and Vale', 'New cases': '12', 'Cumulative cases': '96'}, {'Health Board': 'Cwm Taf', 'New cases': '2', 'Cumulative cases': '23'}, {'Health Board': 'Hywel Dda', 'New cases': '11', 'Cumulative cases': '27'}, {'Health Board': 'Powys', 'New cases': '0', 'Cumulative cases': '11'}, {'Health Board': 'Wales', 'New cases': '60', 'Cumulative cases': '478'}]\n"
     ]
    }
   ],
   "source": [
    "\n",
    "rows = []\n",
    "table = soup.find('table')\n",
    "for tr in table.find_all('tr')[1:]:\n",
    "    tds = tr.find_all('td')\n",
    "\n",
    "#     print(normalize_whitespace(tds[0].find('p').find('span').text))\n",
    "#     rows.append({\"Health Board\":tds[0].text,\"New cases\":tds[1].text,\"Cumulative cases\":tds[2].text})\n",
    "    rows.append({\"Health Board\":normalize_whitespace(tds[0].find('p').find('span').text),\"New cases\":normalize_whitespace(tds[1].find('p').find('span').text),\"Cumulative cases\":tds[2].find('p').find('span').text})\n",
    "print(rows)\n"
   ]
  },
  {
   "cell_type": "code",
   "execution_count": 8,
   "metadata": {},
   "outputs": [
    {
     "name": "stdout",
     "output_type": "stream",
     "text": [
      " Tuesday 24 March\n"
     ]
    }
   ],
   "source": [
    "date=soup.find_all('i')[0].text.split('Updated: ')[1]\n",
    "\n",
    "date=date.split(\":\")[1][2:]\n",
    "print(date)\n"
   ]
  },
  {
   "cell_type": "code",
   "execution_count": 9,
   "metadata": {},
   "outputs": [],
   "source": [
    "import csv\n",
    "keys = rows[0].keys()\n",
    "with open('wales'+date+'.csv','w') as output_file:\n",
    "    writer = csv.DictWriter(output_file,keys)\n",
    "    writer.writeheader()\n",
    "    writer.writerows(rows)\n",
    "    output_file.close()"
   ]
  },
  {
   "cell_type": "code",
   "execution_count": null,
   "metadata": {},
   "outputs": [],
   "source": []
  },
  {
   "cell_type": "code",
   "execution_count": null,
   "metadata": {},
   "outputs": [],
   "source": []
  }
 ],
 "metadata": {
  "kernelspec": {
   "display_name": "Python 3",
   "language": "python",
   "name": "python3"
  },
  "language_info": {
   "codemirror_mode": {
    "name": "ipython",
    "version": 3
   },
   "file_extension": ".py",
   "mimetype": "text/x-python",
   "name": "python",
   "nbconvert_exporter": "python",
   "pygments_lexer": "ipython3",
   "version": "3.7.5"
  }
 },
 "nbformat": 4,
 "nbformat_minor": 2
}
