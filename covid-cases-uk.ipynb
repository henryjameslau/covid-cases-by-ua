{
 "cells": [
  {
   "cell_type": "code",
   "execution_count": 1,
   "metadata": {},
   "outputs": [],
   "source": [
    "%matplotlib inline\n",
    "import datetime\n",
    "import pandas as pd\n",
    "import matplotlib.pyplot as plt\n",
    "import numpy as np"
   ]
  },
  {
   "cell_type": "code",
   "execution_count": 17,
   "metadata": {},
   "outputs": [],
   "source": [
    "url = 'https://raw.githubusercontent.com/tomwhite/covid-19-uk-data/master/data/covid-19-cases-uk.csv'\n",
    "df = pd.read_csv(url, error_bad_lines=False)\n"
   ]
  },
  {
   "cell_type": "code",
   "execution_count": 18,
   "metadata": {},
   "outputs": [],
   "source": [
    "#format as date\n",
    "df['Date']=pd.to_datetime(df.Date)\n",
    "#sort by date\n",
    "df.sort_values(by='Date')\n",
    "\n",
    "#change '1 to 4' to 2\n",
    "df.TotalCases = pd.to_numeric(df.TotalCases, errors='coerce').fillna(2).astype(np.int64)\n",
    "\n",
    "#filter out awaiting clarification areas\n",
    "df=df[df.Area!='awaiting clarification']\n",
    "df=df[df.Area!='Awaiting confirmation']"
   ]
  },
  {
   "cell_type": "code",
   "execution_count": 19,
   "metadata": {},
   "outputs": [],
   "source": [
    "#filter out outliers\n",
    "df=df.drop(df[(df['Area']=='Sheffield')&(df['Date']==datetime.datetime(2020, 3, 17))].index)\n",
    "df=df.drop(df[(df['Area']=='Derbyshire')&(df['Date']==datetime.datetime(2020, 3, 17))].index)"
   ]
  },
  {
   "cell_type": "code",
   "execution_count": 5,
   "metadata": {},
   "outputs": [],
   "source": [
    "#create dictionary for areas with more than 10 cases\n",
    "areaWithMoreThan10={}\n",
    "\n",
    "\n",
    "for index, row in df.iterrows():\n",
    "    if row.TotalCases>10:\n",
    "#         print(row.Area,row.Date)\n",
    "        if row.Area not in areaWithMoreThan10.keys():\n",
    "            areaWithMoreThan10[row.Area] = {'Area':row.Area,\"Code\":row.AreaCode,\"firstDate\":row.Date}\n"
   ]
  },
  {
   "cell_type": "code",
   "execution_count": 6,
   "metadata": {},
   "outputs": [],
   "source": [
    "#Work out time since 10 cases\n",
    "theseAreas=[]\n",
    "\n",
    "for index, row in df.iterrows():\n",
    "    if row.Area in areaWithMoreThan10.keys():\n",
    "#         print(row.Date-areaWithMoreThan10[row.Area]['firstDate'])\n",
    "        if row.Date-areaWithMoreThan10[row.Area]['firstDate'] >= datetime.timedelta(days = 0):\n",
    "            theseAreas.append(row.Date-areaWithMoreThan10[row.Area]['firstDate'])\n",
    "        else:\n",
    "            theseAreas.append(None)\n",
    "    else:\n",
    "        theseAreas.append(None)\n",
    "\n",
    "df['timeSince10']=theseAreas        "
   ]
  },
  {
   "cell_type": "code",
   "execution_count": 7,
   "metadata": {},
   "outputs": [],
   "source": [
    "filterArea=df[~pd.isnull(df.timeSince10)]\n",
    "#just get data where cases have timeSince10"
   ]
  },
  {
   "cell_type": "code",
   "execution_count": 8,
   "metadata": {},
   "outputs": [],
   "source": [
    "lines=filterArea.pivot(index='Area',values='TotalCases',columns='timeSince10').transpose()"
   ]
  },
  {
   "cell_type": "code",
   "execution_count": 9,
   "metadata": {},
   "outputs": [],
   "source": [
    "#lines.plot(figsize=[12,13],yscale='log')\n",
    "#ah balls, just export it and do it in datawrapper"
   ]
  },
  {
   "cell_type": "code",
   "execution_count": 10,
   "metadata": {},
   "outputs": [],
   "source": [
    "#save as .csv\n",
    "lines.to_csv('jbm '+str(datetime.date.today())+'.csv', index = True)"
   ]
  },
  {
   "cell_type": "code",
   "execution_count": null,
   "metadata": {},
   "outputs": [],
   "source": []
  }
 ],
 "metadata": {
  "kernelspec": {
   "display_name": "Python 3",
   "language": "python",
   "name": "python3"
  },
  "language_info": {
   "codemirror_mode": {
    "name": "ipython",
    "version": 3
   },
   "file_extension": ".py",
   "mimetype": "text/x-python",
   "name": "python",
   "nbconvert_exporter": "python",
   "pygments_lexer": "ipython3",
   "version": "3.7.5"
  }
 },
 "nbformat": 4,
 "nbformat_minor": 2
}
