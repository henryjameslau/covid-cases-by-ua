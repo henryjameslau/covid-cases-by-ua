{
 "cells": [
  {
   "cell_type": "code",
   "execution_count": 1,
   "metadata": {},
   "outputs": [],
   "source": [
    "from requests import get\n",
    "url = 'https://phw.nhs.wales/news/public-health-wales-statement-on-novel-coronavirus-outbreak/'\n",
    "response = get(url)"
   ]
  },
  {
   "cell_type": "code",
   "execution_count": 2,
   "metadata": {},
   "outputs": [],
   "source": [
    "from bs4 import BeautifulSoup\n",
    "soup = BeautifulSoup(response.text, 'html.parser')"
   ]
  },
  {
   "cell_type": "code",
   "execution_count": 41,
   "metadata": {},
   "outputs": [
    {
     "name": "stdout",
     "output_type": "stream",
     "text": [
      "skip\n",
      "skip\n",
      "Swansea Bay Swansea\n",
      "skip\n",
      "Aneurin Bevan Caerphilly\n",
      "Aneurin Bevan Monmouthshire\n",
      "Aneurin Bevan Newport\n",
      "Aneurin Bevan Torfaen\n",
      "skip\n",
      "Betsi Cadwaladr Denbighshire\n",
      "Betsi Cadwaladr Flintshire\n",
      "Betsi Cadwaladr Gwynedd\n",
      "Betsi Cadwaladr Isle of Anglesey\n",
      "Betsi Cadwaladr Wrexham\n",
      "skip\n",
      "Cardiff and Vale Vale of Glamorgan\n",
      "skip\n",
      "Cwm Taf Rhondda Cynon Taf\n",
      "Cwm Taf Merthyr Tydfil\n",
      "skip\n",
      "Hywel Dda Ceredigion\n",
      "Hywel Dda Pembrokeshire\n",
      "skip\n",
      "skip\n",
      "[{'Health Board': 'To be confirmed', 'Local Authority': 'To be confirmed', 'New cases': '1', 'Cumulative cases': '1'}, {'Health Board': 'Resident outside Wales', 'Local Authority': '\\xa0', 'New cases': '0', 'Cumulative cases': '2'}, {'Health Board': 'Swansea Bay', 'Local Authority': 'Neath Port Talbot', 'New cases': '1', 'Cumulative cases': '15'}, {'Health Board': 'Swansea Bay', 'Local Authority': 'Swansea', 'New cases': '0', 'Cumulative cases': '19'}, {'Health Board': 'Aneurin Bevan', 'Local Authority': 'Blaenau Gwent', 'New cases': '1', 'Cumulative cases': '11'}, {'Health Board': 'Aneurin Bevan', 'Local Authority': 'Caerphilly', 'New cases': '1', 'Cumulative cases': '23'}, {'Health Board': 'Aneurin Bevan', 'Local Authority': 'Monmouthshire', 'New cases': '3', 'Cumulative cases': '15'}, {'Health Board': 'Aneurin Bevan', 'Local Authority': 'Newport', 'New cases': '10', 'Cumulative cases': '38'}, {'Health Board': 'Aneurin Bevan', 'Local Authority': 'Torfaen', 'New cases': '1', 'Cumulative cases': '5'}, {'Health Board': 'Betsi Cadwaladr', 'Local Authority': 'Conwy', 'New cases': '0', 'Cumulative cases': '1'}, {'Health Board': 'Betsi Cadwaladr', 'Local Authority': 'Denbighshire', 'New cases': '0', 'Cumulative cases': '0'}, {'Health Board': 'Betsi Cadwaladr', 'Local Authority': 'Flintshire', 'New cases': '0', 'Cumulative cases': '1'}, {'Health Board': 'Betsi Cadwaladr', 'Local Authority': 'Gwynedd', 'New cases': '0', 'Cumulative cases': '1'}, {'Health Board': 'Betsi Cadwaladr', 'Local Authority': 'Isle of Anglesey', 'New cases': '0', 'Cumulative cases': '2'}, {'Health Board': 'Betsi Cadwaladr', 'Local Authority': 'Wrexham', 'New cases': '0', 'Cumulative cases': '2'}, {'Health Board': 'Cardiff and Vale', 'Local Authority': 'Cardiff', 'New cases': '2', 'Cumulative cases': '28'}, {'Health Board': 'Cardiff and Vale', 'Local Authority': 'Vale of Glamorgan', 'New cases': '0', 'Cumulative cases': '1'}, {'Health Board': 'Cwm Taf', 'Local Authority': 'Bridgend', 'New cases': '0', 'Cumulative cases': '3'}, {'Health Board': 'Cwm Taf', 'Local Authority': 'Rhondda Cynon Taf', 'New cases': '0', 'Cumulative cases': '2'}, {'Health Board': 'Cwm Taf', 'Local Authority': 'Merthyr Tydfil', 'New cases': '1', 'Cumulative cases': '2'}, {'Health Board': 'Hywel Dda', 'Local Authority': 'Carmarthenshire', 'New cases': '0', 'Cumulative cases': '8'}, {'Health Board': 'Hywel Dda', 'Local Authority': 'Ceredigion', 'New cases': '0', 'Cumulative cases': '1'}, {'Health Board': 'Hywel Dda', 'Local Authority': 'Pembrokeshire', 'New cases': '0', 'Cumulative cases': '2'}, {'Health Board': 'Powys', 'Local Authority': 'Powys', 'New cases': '0', 'Cumulative cases': '8'}, {'Health Board': 'Wales', 'Local Authority': 'Wales', 'New cases': '21', 'Cumulative cases': '191'}]\n"
     ]
    }
   ],
   "source": [
    "rows = []\n",
    "table = soup.find('table')\n",
    "for row in table.find_all('tr')[1:]:\n",
    "    td = row.find_all('td')\n",
    "#     print(td[0].find('p').text)\n",
    "    if td[0].find('p').text==u\"\\xa0\":\n",
    "        if td[1].find('p').text==u\"\\xa0\":\n",
    "            print('skip')\n",
    "        else:\n",
    "            print(healthBoard,td[1].find('p').text)\n",
    "            rows.append({\"Health Board\":healthBoard,\"Local Authority\":td[1].find('p').text,\"New cases\":td[2].find('p').text,\"Cumulative cases\":td[3].find('p').text})\n",
    "    else:\n",
    "        healthBoard=td[0].find('p').text\n",
    "        rows.append({\"Health Board\":healthBoard,\"Local Authority\":td[1].find('p').text,\"New cases\":td[2].find('p').text,\"Cumulative cases\":td[3].find('p').text})\n",
    "\n",
    "#     print(tds)\n",
    "#     rows.append({\"Health Board\":tds[0].text,\"New cases\":tds[1].text,\"Cumulative cases\":tds[2].text})\n",
    "print(rows)\n"
   ]
  },
  {
   "cell_type": "code",
   "execution_count": 42,
   "metadata": {},
   "outputs": [
    {
     "name": "stdout",
     "output_type": "stream",
     "text": [
      " Friday 20 March 2020\n"
     ]
    }
   ],
   "source": [
    "date=soup.find('em').text.split(': 12pm')[1]\n",
    "print(date)"
   ]
  },
  {
   "cell_type": "code",
   "execution_count": 43,
   "metadata": {},
   "outputs": [],
   "source": [
    "import csv\n",
    "keys = rows[0].keys()\n",
    "with open('wales'+date+'.csv','w') as output_file:\n",
    "    writer = csv.DictWriter(output_file,keys)\n",
    "    writer.writeheader()\n",
    "    writer.writerows(rows)\n",
    "    output_file.close()"
   ]
  },
  {
   "cell_type": "code",
   "execution_count": null,
   "metadata": {},
   "outputs": [],
   "source": []
  },
  {
   "cell_type": "code",
   "execution_count": null,
   "metadata": {},
   "outputs": [],
   "source": []
  }
 ],
 "metadata": {
  "kernelspec": {
   "display_name": "Python 3",
   "language": "python",
   "name": "python3"
  },
  "language_info": {
   "codemirror_mode": {
    "name": "ipython",
    "version": 3
   },
   "file_extension": ".py",
   "mimetype": "text/x-python",
   "name": "python",
   "nbconvert_exporter": "python",
   "pygments_lexer": "ipython3",
   "version": "3.7.5"
  }
 },
 "nbformat": 4,
 "nbformat_minor": 2
}
