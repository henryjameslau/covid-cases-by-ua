{
 "cells": [
  {
   "cell_type": "code",
   "execution_count": 43,
   "metadata": {},
   "outputs": [],
   "source": [
    "from requests import get\n",
    "url = 'https://www.gov.scot/coronavirus-covid-19/'\n",
    "response = get(url)"
   ]
  },
  {
   "cell_type": "code",
   "execution_count": 44,
   "metadata": {},
   "outputs": [],
   "source": [
    "from bs4 import BeautifulSoup\n",
    "soup = BeautifulSoup(response.text, 'html.parser')"
   ]
  },
  {
   "cell_type": "code",
   "execution_count": 45,
   "metadata": {},
   "outputs": [
    {
     "name": "stdout",
     "output_type": "stream",
     "text": [
      "Ayrshire and Arran\n",
      "Borders\n",
      "Dumfries and Galloway\n",
      "Fife\n",
      "Forth Valley\n",
      "Grampian\n",
      "Greater Glasgow and Clyde\n",
      "Highland\n",
      "Lanarkshire\n",
      "Lothian\n",
      "Shetland\n",
      "Tayside\n",
      "[{'Health board': 'Ayrshire\\xa0and Arran', 'Positive cases': '16'}, {'Health board': 'Borders', 'Positive cases': '9'}, {'Health board': 'Dumfries and Galloway', 'Positive cases': '10'}, {'Health board': 'Fife', 'Positive cases': '12'}, {'Health board': 'Forth Valley', 'Positive cases': '23'}, {'Health board': 'Grampian', 'Positive cases': '19'}, {'Health board': 'Greater Glasgow and Clyde', 'Positive cases': '91'}, {'Health board': 'Highland', 'Positive cases': '6'}, {'Health board': 'Lanarkshire', 'Positive cases': '41'}, {'Health board': 'Lothian', 'Positive cases': '40'}, {'Health board': 'Shetland', 'Positive cases': '24'}, {'Health board': 'Tayside', 'Positive cases': '31'}]\n"
     ]
    }
   ],
   "source": [
    "rows = []\n",
    "table = soup.find('tbody')\n",
    "for tr in table.find_all('tr'):\n",
    "    row=tr.find_all('td')\n",
    "    if row[0].find('span')==None:\n",
    "        print(row[0].text)\n",
    "        rows.append({\"Health board\":row[0].text,\"Positive cases\":row[1].text})\n",
    "    elif row[0].find('span').find('span')==None:\n",
    "        print(row[0].find('span').text)\n",
    "        rows.append({\"Health board\":row[0].find('span').text,\"Positive cases\":row[1].text})\n",
    "    else:\n",
    "        print(row[0].find('span').find('span').text)\n",
    "        rows.append({\"Health board\":row[0].find('span').find('span').text,\"Positive cases\":row[1].text})\n",
    "    \n",
    "    #         print(td.find('span'))\n",
    "#     print(tds[0].find('span').text)\n",
    "#     rows.append({\"Health Board\":tds[0].find('span').text,\"Positive cases\":tds[1].text)\n",
    "print(rows)"
   ]
  },
  {
   "cell_type": "code",
   "execution_count": 46,
   "metadata": {},
   "outputs": [
    {
     "name": "stdout",
     "output_type": "stream",
     "text": [
      "20 March 2020\n"
     ]
    }
   ],
   "source": [
    "date=soup.find(id='overview').find('h3').text.split(': ')[1]\n",
    "print(date)"
   ]
  },
  {
   "cell_type": "code",
   "execution_count": 47,
   "metadata": {},
   "outputs": [],
   "source": [
    "import csv\n",
    "keys = rows[0].keys()\n",
    "with open('scotland '+date+'.csv','w') as output_file:\n",
    "    writer = csv.DictWriter(output_file,keys)\n",
    "    writer.writeheader()\n",
    "    writer.writerows(rows)\n",
    "    output_file.close()"
   ]
  },
  {
   "cell_type": "code",
   "execution_count": null,
   "metadata": {},
   "outputs": [],
   "source": []
  }
 ],
 "metadata": {
  "kernelspec": {
   "display_name": "Python 3",
   "language": "python",
   "name": "python3"
  },
  "language_info": {
   "codemirror_mode": {
    "name": "ipython",
    "version": 3
   },
   "file_extension": ".py",
   "mimetype": "text/x-python",
   "name": "python",
   "nbconvert_exporter": "python",
   "pygments_lexer": "ipython3",
   "version": "3.7.5"
  }
 },
 "nbformat": 4,
 "nbformat_minor": 2
}
