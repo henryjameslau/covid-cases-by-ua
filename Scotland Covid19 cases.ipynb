{
 "cells": [
  {
   "cell_type": "code",
   "execution_count": 1,
   "metadata": {},
   "outputs": [],
   "source": [
    "from requests import get\n",
    "url = 'https://www.gov.scot/coronavirus-covid-19/'\n",
    "response = get(url)"
   ]
  },
  {
   "cell_type": "code",
   "execution_count": 4,
   "metadata": {},
   "outputs": [],
   "source": [
    "from bs4 import BeautifulSoup\n",
    "soup = BeautifulSoup(response.text, 'html.parser')"
   ]
  },
  {
   "cell_type": "code",
   "execution_count": 23,
   "metadata": {},
   "outputs": [
    {
     "name": "stdout",
     "output_type": "stream",
     "text": [
      "<td><span>Ayrshire and Arran</span></td>\n",
      "<td>Borders</td>\n",
      "<td><span><span><span>Dumfries and Galloway</span></span></span></td>\n",
      "<td>Fife</td>\n",
      "<td>Forth Valley</td>\n",
      "<td><span>Grampian</span></td>\n",
      "<td><span>Greater Glasgow and Clyde</span></td>\n",
      "<td>Highland</td>\n",
      "<td><span>Lanarkshire</span></td>\n",
      "<td>Lothian</td>\n",
      "<td>Shetland</td>\n",
      "<td><span>Tayside</span></td>\n"
     ]
    }
   ],
   "source": [
    "rows = []\n",
    "table = soup.find('tbody')\n",
    "for tr in table.find_all('tr'):\n",
    "    row=tr.find_all('td')\n",
    "    print(row[0])\n",
    "    \n",
    "    #         print(td.find('span'))\n",
    "#     print(tds[0].find('span').text)\n",
    "#     rows.append({\"Health Board\":tds[0].find('span').text,\"Positive cases\":tds[1].text)\n",
    "# print(rows)"
   ]
  },
  {
   "cell_type": "code",
   "execution_count": null,
   "metadata": {},
   "outputs": [],
   "source": []
  },
  {
   "cell_type": "code",
   "execution_count": null,
   "metadata": {},
   "outputs": [],
   "source": []
  }
 ],
 "metadata": {
  "kernelspec": {
   "display_name": "Python 3",
   "language": "python",
   "name": "python3"
  },
  "language_info": {
   "codemirror_mode": {
    "name": "ipython",
    "version": 3
   },
   "file_extension": ".py",
   "mimetype": "text/x-python",
   "name": "python",
   "nbconvert_exporter": "python",
   "pygments_lexer": "ipython3",
   "version": "3.7.5"
  }
 },
 "nbformat": 4,
 "nbformat_minor": 2
}
