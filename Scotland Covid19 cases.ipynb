{
 "cells": [
  {
   "cell_type": "code",
   "execution_count": 1,
   "metadata": {},
   "outputs": [],
   "source": [
    "from requests import get\n",
    "url = 'https://www.gov.scot/publications/coronavirus-covid-19-tests-and-cases-in-scotland/'\n",
    "response = get(url)"
   ]
  },
  {
   "cell_type": "code",
   "execution_count": 2,
   "metadata": {},
   "outputs": [],
   "source": [
    "from bs4 import BeautifulSoup\n",
    "soup = BeautifulSoup(response.text, 'html.parser')"
   ]
  },
  {
   "cell_type": "code",
   "execution_count": 3,
   "metadata": {},
   "outputs": [
    {
     "name": "stdout",
     "output_type": "stream",
     "text": [
      "Borders\n",
      "Dumfries and Galloway\n",
      "Fife\n",
      "Forth Valley\n",
      "Grampian\n",
      "Greater Glasgow and Clyde\n",
      "Highland\n",
      "Lanarkshire\n",
      "Lothian\n",
      "Orkney\n",
      "Shetland\n",
      "Tayside\n",
      "Eileanan Siar (Western Isles)\n",
      "Golden Jubilee National Hospital\n",
      "[{'Health board': 'Borders', 'Positive cases': '177'}, {'Health board': 'Dumfries and Galloway', 'Positive cases': '164'}, {'Health board': 'Fife', 'Positive cases': '333'}, {'Health board': 'Forth Valley', 'Positive cases': '302'}, {'Health board': 'Grampian', 'Positive cases': '251'}, {'Health board': 'Greater Glasgow and Clyde', 'Positive cases': '1314'}, {'Health board': 'Highland', 'Positive cases': '144'}, {'Health board': 'Lanarkshire', 'Positive cases': '662'}, {'Health board': 'Lothian', 'Positive cases': '799'}, {'Health board': 'Orkney', 'Positive cases': '*'}, {'Health board': 'Shetland', 'Positive cases': '43'}, {'Health board': 'Tayside', 'Positive cases': '712'}, {'Health board': 'Eileanan Siar (Western Isles)', 'Positive cases': '6'}, {'Health board': 'Golden Jubilee National Hospital', 'Positive cases': ''}]\n"
     ]
    }
   ],
   "source": [
    "rows = []\n",
    "table = soup.find('tbody')\n",
    "for tr in table.find_all('tr')[1:]:\n",
    "    row=tr.find_all('td')\n",
    "    if row[0].find('span')==None:\n",
    "        print(row[0].text.strip())\n",
    "        rows.append({\"Health board\":row[0].text.strip(),\"Positive cases\":row[1].text.strip()})\n",
    "    elif row[0].find('span').find('span')==None:\n",
    "        print(row[0].find('span').text)\n",
    "        rows.append({\"Health board\":row[0].find('span').text.strip(),\"Positive cases\":row[1].text.strip()})\n",
    "    else:\n",
    "        print(row[0].find('span').find('span').text)\n",
    "        rows.append({\"Health board\":row[0].find('span').find('span').text.strip(),\"Positive cases\":row[1].text.strip()})\n",
    "    \n",
    "    #         print(td.find('span'))\n",
    "#     print(tds[0].find('span').text)\n",
    "#     rows.append({\"Health Board\":tds[0].find('span').text,\"Positive cases\":tds[1].text)\n",
    "print(rows)"
   ]
  },
  {
   "cell_type": "code",
   "execution_count": 4,
   "metadata": {},
   "outputs": [
    {
     "name": "stdout",
     "output_type": "stream",
     "text": [
      "10 April 2020\n"
     ]
    }
   ],
   "source": [
    "date=soup.find(\"div\", {\"class\": \"publication-body\"}).find_all('h3')[0].text.split(': ')[1]\n",
    "print(date)"
   ]
  },
  {
   "cell_type": "code",
   "execution_count": 5,
   "metadata": {},
   "outputs": [],
   "source": [
    "import csv\n",
    "keys = rows[0].keys()\n",
    "with open('scotland '+date+'.csv','w') as output_file:\n",
    "    writer = csv.DictWriter(output_file,keys)\n",
    "    writer.writeheader()\n",
    "    writer.writerows(rows)\n",
    "    output_file.close()"
   ]
  },
  {
   "cell_type": "code",
   "execution_count": null,
   "metadata": {},
   "outputs": [],
   "source": []
  }
 ],
 "metadata": {
  "kernelspec": {
   "display_name": "Python 3",
   "language": "python",
   "name": "python3"
  },
  "language_info": {
   "codemirror_mode": {
    "name": "ipython",
    "version": 3
   },
   "file_extension": ".py",
   "mimetype": "text/x-python",
   "name": "python",
   "nbconvert_exporter": "python",
   "pygments_lexer": "ipython3",
   "version": "3.7.5"
  }
 },
 "nbformat": 4,
 "nbformat_minor": 2
}
